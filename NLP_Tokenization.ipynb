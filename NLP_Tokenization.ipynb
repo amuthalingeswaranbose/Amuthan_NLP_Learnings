{
  "nbformat": 4,
  "nbformat_minor": 0,
  "metadata": {
    "colab": {
      "provenance": [],
      "authorship_tag": "ABX9TyO6aj0wVjxviWHIL+FCXlMM",
      "include_colab_link": true
    },
    "kernelspec": {
      "name": "python3",
      "display_name": "Python 3"
    },
    "language_info": {
      "name": "python"
    }
  },
  "cells": [
    {
      "cell_type": "markdown",
      "metadata": {
        "id": "view-in-github",
        "colab_type": "text"
      },
      "source": [
        "<a href=\"https://colab.research.google.com/github/amuthalingeswaranbose/Amuthan_NLP_Learnings/blob/main/NLP_Tokenization.ipynb\" target=\"_parent\"><img src=\"https://colab.research.google.com/assets/colab-badge.svg\" alt=\"Open In Colab\"/></a>"
      ]
    },
    {
      "cell_type": "markdown",
      "source": [
        "# Import"
      ],
      "metadata": {
        "id": "wuiSmJjUpRYI"
      }
    },
    {
      "cell_type": "code",
      "execution_count": null,
      "metadata": {
        "id": "nXx1EDZbpMcV"
      },
      "outputs": [],
      "source": [
        "import nltk"
      ]
    },
    {
      "cell_type": "markdown",
      "source": [
        "# Download nltk all files"
      ],
      "metadata": {
        "id": "Yn5xdeP3pkfA"
      }
    },
    {
      "cell_type": "code",
      "source": [
        "nltk.download()"
      ],
      "metadata": {
        "colab": {
          "base_uri": "https://localhost:8080/"
        },
        "id": "wypq9nV6pVHi",
        "outputId": "b73ceec8-a1c1-43b3-fca0-9391494ccdc0"
      },
      "execution_count": null,
      "outputs": [
        {
          "name": "stdout",
          "output_type": "stream",
          "text": [
            "NLTK Downloader\n",
            "---------------------------------------------------------------------------\n",
            "    d) Download   l) List    u) Update   c) Config   h) Help   q) Quit\n",
            "---------------------------------------------------------------------------\n",
            "Downloader> \n",
            "\n",
            "---------------------------------------------------------------------------\n",
            "    d) Download   l) List    u) Update   c) Config   h) Help   q) Quit\n",
            "---------------------------------------------------------------------------\n",
            "Downloader> q\n"
          ]
        },
        {
          "output_type": "execute_result",
          "data": {
            "text/plain": [
              "True"
            ]
          },
          "metadata": {},
          "execution_count": 5
        }
      ]
    },
    {
      "cell_type": "code",
      "source": [
        "paragraph = \"\"\"He graduated in 1955 from the Madras Institute of Technology and graduated from St. Joseph's College, Tiruchirappalli, in Aerospace Engineering. He joined the Defense Research and Development Organization's (DRDO) Aeronautical Development Base as a Chief Scientist after his graduation. He won credit as Project Director-General for making India's first indigenous satellite (SLV III) rocket. It was his ultimate support that brought nuclear power to India. In July 1992, he was appointed Scientific Advisor to the Indian Ministry of Defence. As a national counsellor, he played a significant role in the world-famous nuclear tests at Pokhran II. In 1981, he was awarded the Padma Bhushan Award, in 1909 the Padma Vibhushan, and in 1997 the highest civilian award of India' Bharat Ratna 'for modernizing the defence technology of India and his outstanding contribution.\"\"\"\n",
        "paragraph"
      ],
      "metadata": {
        "colab": {
          "base_uri": "https://localhost:8080/",
          "height": 105
        },
        "id": "gC-JACiVpYmK",
        "outputId": "a5659c02-3bd1-480d-9a73-ff11fe472fb0"
      },
      "execution_count": null,
      "outputs": [
        {
          "output_type": "execute_result",
          "data": {
            "text/plain": [
              "\"He graduated in 1955 from the Madras Institute of Technology and graduated from St. Joseph's College, Tiruchirappalli, in Aerospace Engineering. He joined the Defense Research and Development Organization's (DRDO) Aeronautical Development Base as a Chief Scientist after his graduation. He won credit as Project Director-General for making India's first indigenous satellite (SLV III) rocket. It was his ultimate support that brought nuclear power to India. In July 1992, he was appointed Scientific Advisor to the Indian Ministry of Defence. As a national counsellor, he played a significant role in the world-famous nuclear tests at Pokhran II. In 1981, he was awarded the Padma Bhushan Award, in 1909 the Padma Vibhushan, and in 1997 the highest civilian award of India' Bharat Ratna 'for modernizing the defence technology of India and his outstanding contribution.\""
            ],
            "application/vnd.google.colaboratory.intrinsic+json": {
              "type": "string"
            }
          },
          "metadata": {},
          "execution_count": 7
        }
      ]
    },
    {
      "cell_type": "markdown",
      "source": [
        "# Tokenizing Sentence"
      ],
      "metadata": {
        "id": "eEQWC9k2qKiM"
      }
    },
    {
      "cell_type": "code",
      "source": [
        "sentence = nltk.sent_tokenize(paragraph)\n",
        "sentence"
      ],
      "metadata": {
        "colab": {
          "base_uri": "https://localhost:8080/"
        },
        "id": "r-C165AnqFrs",
        "outputId": "3bab3b72-cd05-4776-aa8c-3a8b4f0e21ac"
      },
      "execution_count": null,
      "outputs": [
        {
          "output_type": "execute_result",
          "data": {
            "text/plain": [
              "[\"He graduated in 1955 from the Madras Institute of Technology and graduated from St. Joseph's College, Tiruchirappalli, in Aerospace Engineering.\",\n",
              " \"He joined the Defense Research and Development Organization's (DRDO) Aeronautical Development Base as a Chief Scientist after his graduation.\",\n",
              " \"He won credit as Project Director-General for making India's first indigenous satellite (SLV III) rocket.\",\n",
              " 'It was his ultimate support that brought nuclear power to India.',\n",
              " 'In July 1992, he was appointed Scientific Advisor to the Indian Ministry of Defence.',\n",
              " 'As a national counsellor, he played a significant role in the world-famous nuclear tests at Pokhran II.',\n",
              " \"In 1981, he was awarded the Padma Bhushan Award, in 1909 the Padma Vibhushan, and in 1997 the highest civilian award of India' Bharat Ratna 'for modernizing the defence technology of India and his outstanding contribution.\"]"
            ]
          },
          "metadata": {},
          "execution_count": 8
        }
      ]
    },
    {
      "cell_type": "markdown",
      "source": [
        "# Tokenizing Words"
      ],
      "metadata": {
        "id": "NS7Lle-uqdjY"
      }
    },
    {
      "cell_type": "code",
      "source": [
        "words = nltk.word_tokenize(paragraph)\n",
        "words"
      ],
      "metadata": {
        "colab": {
          "base_uri": "https://localhost:8080/"
        },
        "id": "F7R_OL-sqU-4",
        "outputId": "f37013c8-46bb-4662-d3e6-bad207b319a1"
      },
      "execution_count": null,
      "outputs": [
        {
          "output_type": "execute_result",
          "data": {
            "text/plain": [
              "['He',\n",
              " 'graduated',\n",
              " 'in',\n",
              " '1955',\n",
              " 'from',\n",
              " 'the',\n",
              " 'Madras',\n",
              " 'Institute',\n",
              " 'of',\n",
              " 'Technology',\n",
              " 'and',\n",
              " 'graduated',\n",
              " 'from',\n",
              " 'St.',\n",
              " 'Joseph',\n",
              " \"'s\",\n",
              " 'College',\n",
              " ',',\n",
              " 'Tiruchirappalli',\n",
              " ',',\n",
              " 'in',\n",
              " 'Aerospace',\n",
              " 'Engineering',\n",
              " '.',\n",
              " 'He',\n",
              " 'joined',\n",
              " 'the',\n",
              " 'Defense',\n",
              " 'Research',\n",
              " 'and',\n",
              " 'Development',\n",
              " 'Organization',\n",
              " \"'s\",\n",
              " '(',\n",
              " 'DRDO',\n",
              " ')',\n",
              " 'Aeronautical',\n",
              " 'Development',\n",
              " 'Base',\n",
              " 'as',\n",
              " 'a',\n",
              " 'Chief',\n",
              " 'Scientist',\n",
              " 'after',\n",
              " 'his',\n",
              " 'graduation',\n",
              " '.',\n",
              " 'He',\n",
              " 'won',\n",
              " 'credit',\n",
              " 'as',\n",
              " 'Project',\n",
              " 'Director-General',\n",
              " 'for',\n",
              " 'making',\n",
              " 'India',\n",
              " \"'s\",\n",
              " 'first',\n",
              " 'indigenous',\n",
              " 'satellite',\n",
              " '(',\n",
              " 'SLV',\n",
              " 'III',\n",
              " ')',\n",
              " 'rocket',\n",
              " '.',\n",
              " 'It',\n",
              " 'was',\n",
              " 'his',\n",
              " 'ultimate',\n",
              " 'support',\n",
              " 'that',\n",
              " 'brought',\n",
              " 'nuclear',\n",
              " 'power',\n",
              " 'to',\n",
              " 'India',\n",
              " '.',\n",
              " 'In',\n",
              " 'July',\n",
              " '1992',\n",
              " ',',\n",
              " 'he',\n",
              " 'was',\n",
              " 'appointed',\n",
              " 'Scientific',\n",
              " 'Advisor',\n",
              " 'to',\n",
              " 'the',\n",
              " 'Indian',\n",
              " 'Ministry',\n",
              " 'of',\n",
              " 'Defence',\n",
              " '.',\n",
              " 'As',\n",
              " 'a',\n",
              " 'national',\n",
              " 'counsellor',\n",
              " ',',\n",
              " 'he',\n",
              " 'played',\n",
              " 'a',\n",
              " 'significant',\n",
              " 'role',\n",
              " 'in',\n",
              " 'the',\n",
              " 'world-famous',\n",
              " 'nuclear',\n",
              " 'tests',\n",
              " 'at',\n",
              " 'Pokhran',\n",
              " 'II',\n",
              " '.',\n",
              " 'In',\n",
              " '1981',\n",
              " ',',\n",
              " 'he',\n",
              " 'was',\n",
              " 'awarded',\n",
              " 'the',\n",
              " 'Padma',\n",
              " 'Bhushan',\n",
              " 'Award',\n",
              " ',',\n",
              " 'in',\n",
              " '1909',\n",
              " 'the',\n",
              " 'Padma',\n",
              " 'Vibhushan',\n",
              " ',',\n",
              " 'and',\n",
              " 'in',\n",
              " '1997',\n",
              " 'the',\n",
              " 'highest',\n",
              " 'civilian',\n",
              " 'award',\n",
              " 'of',\n",
              " 'India',\n",
              " \"'\",\n",
              " 'Bharat',\n",
              " 'Ratna',\n",
              " \"'for\",\n",
              " 'modernizing',\n",
              " 'the',\n",
              " 'defence',\n",
              " 'technology',\n",
              " 'of',\n",
              " 'India',\n",
              " 'and',\n",
              " 'his',\n",
              " 'outstanding',\n",
              " 'contribution',\n",
              " '.']"
            ]
          },
          "metadata": {},
          "execution_count": 11
        }
      ]
    },
    {
      "cell_type": "markdown",
      "source": [
        "# Tokenizing Punctuations"
      ],
      "metadata": {
        "id": "u4SK-BCAlpAL"
      }
    },
    {
      "cell_type": "code",
      "source": [
        "from nltk.tokenize import wordpunct_tokenize\n",
        "wordpunct_tokenize(paragraph)"
      ],
      "metadata": {
        "id": "7Sb-ujNpqoSh",
        "colab": {
          "base_uri": "https://localhost:8080/"
        },
        "outputId": "2cf10d2a-502e-4ce9-95c5-51c51e836be2"
      },
      "execution_count": null,
      "outputs": [
        {
          "output_type": "execute_result",
          "data": {
            "text/plain": [
              "['He',\n",
              " 'graduated',\n",
              " 'in',\n",
              " '1955',\n",
              " 'from',\n",
              " 'the',\n",
              " 'Madras',\n",
              " 'Institute',\n",
              " 'of',\n",
              " 'Technology',\n",
              " 'and',\n",
              " 'graduated',\n",
              " 'from',\n",
              " 'St',\n",
              " '.',\n",
              " 'Joseph',\n",
              " \"'\",\n",
              " 's',\n",
              " 'College',\n",
              " ',',\n",
              " 'Tiruchirappalli',\n",
              " ',',\n",
              " 'in',\n",
              " 'Aerospace',\n",
              " 'Engineering',\n",
              " '.',\n",
              " 'He',\n",
              " 'joined',\n",
              " 'the',\n",
              " 'Defense',\n",
              " 'Research',\n",
              " 'and',\n",
              " 'Development',\n",
              " 'Organization',\n",
              " \"'\",\n",
              " 's',\n",
              " '(',\n",
              " 'DRDO',\n",
              " ')',\n",
              " 'Aeronautical',\n",
              " 'Development',\n",
              " 'Base',\n",
              " 'as',\n",
              " 'a',\n",
              " 'Chief',\n",
              " 'Scientist',\n",
              " 'after',\n",
              " 'his',\n",
              " 'graduation',\n",
              " '.',\n",
              " 'He',\n",
              " 'won',\n",
              " 'credit',\n",
              " 'as',\n",
              " 'Project',\n",
              " 'Director',\n",
              " '-',\n",
              " 'General',\n",
              " 'for',\n",
              " 'making',\n",
              " 'India',\n",
              " \"'\",\n",
              " 's',\n",
              " 'first',\n",
              " 'indigenous',\n",
              " 'satellite',\n",
              " '(',\n",
              " 'SLV',\n",
              " 'III',\n",
              " ')',\n",
              " 'rocket',\n",
              " '.',\n",
              " 'It',\n",
              " 'was',\n",
              " 'his',\n",
              " 'ultimate',\n",
              " 'support',\n",
              " 'that',\n",
              " 'brought',\n",
              " 'nuclear',\n",
              " 'power',\n",
              " 'to',\n",
              " 'India',\n",
              " '.',\n",
              " 'In',\n",
              " 'July',\n",
              " '1992',\n",
              " ',',\n",
              " 'he',\n",
              " 'was',\n",
              " 'appointed',\n",
              " 'Scientific',\n",
              " 'Advisor',\n",
              " 'to',\n",
              " 'the',\n",
              " 'Indian',\n",
              " 'Ministry',\n",
              " 'of',\n",
              " 'Defence',\n",
              " '.',\n",
              " 'As',\n",
              " 'a',\n",
              " 'national',\n",
              " 'counsellor',\n",
              " ',',\n",
              " 'he',\n",
              " 'played',\n",
              " 'a',\n",
              " 'significant',\n",
              " 'role',\n",
              " 'in',\n",
              " 'the',\n",
              " 'world',\n",
              " '-',\n",
              " 'famous',\n",
              " 'nuclear',\n",
              " 'tests',\n",
              " 'at',\n",
              " 'Pokhran',\n",
              " 'II',\n",
              " '.',\n",
              " 'In',\n",
              " '1981',\n",
              " ',',\n",
              " 'he',\n",
              " 'was',\n",
              " 'awarded',\n",
              " 'the',\n",
              " 'Padma',\n",
              " 'Bhushan',\n",
              " 'Award',\n",
              " ',',\n",
              " 'in',\n",
              " '1909',\n",
              " 'the',\n",
              " 'Padma',\n",
              " 'Vibhushan',\n",
              " ',',\n",
              " 'and',\n",
              " 'in',\n",
              " '1997',\n",
              " 'the',\n",
              " 'highest',\n",
              " 'civilian',\n",
              " 'award',\n",
              " 'of',\n",
              " 'India',\n",
              " \"'\",\n",
              " 'Bharat',\n",
              " 'Ratna',\n",
              " \"'\",\n",
              " 'for',\n",
              " 'modernizing',\n",
              " 'the',\n",
              " 'defence',\n",
              " 'technology',\n",
              " 'of',\n",
              " 'India',\n",
              " 'and',\n",
              " 'his',\n",
              " 'outstanding',\n",
              " 'contribution',\n",
              " '.']"
            ]
          },
          "metadata": {},
          "execution_count": 17
        }
      ]
    },
    {
      "cell_type": "markdown",
      "source": [
        "# Tokenizing - TreebankWordTokenizer"
      ],
      "metadata": {
        "id": "rNhSsoyQmWWg"
      }
    },
    {
      "cell_type": "code",
      "source": [
        "from nltk.tokenize import TreebankWordTokenizer\n",
        "treebank = TreebankWordTokenizer()\n",
        "\n",
        "treebank.tokenize(paragraph)"
      ],
      "metadata": {
        "id": "8vtHEMc8dT1C",
        "colab": {
          "base_uri": "https://localhost:8080/"
        },
        "outputId": "15129453-49d3-43ce-d7a0-ca55f7472a6c"
      },
      "execution_count": null,
      "outputs": [
        {
          "output_type": "execute_result",
          "data": {
            "text/plain": [
              "['He',\n",
              " 'graduated',\n",
              " 'in',\n",
              " '1955',\n",
              " 'from',\n",
              " 'the',\n",
              " 'Madras',\n",
              " 'Institute',\n",
              " 'of',\n",
              " 'Technology',\n",
              " 'and',\n",
              " 'graduated',\n",
              " 'from',\n",
              " 'St.',\n",
              " 'Joseph',\n",
              " \"'s\",\n",
              " 'College',\n",
              " ',',\n",
              " 'Tiruchirappalli',\n",
              " ',',\n",
              " 'in',\n",
              " 'Aerospace',\n",
              " 'Engineering.',\n",
              " 'He',\n",
              " 'joined',\n",
              " 'the',\n",
              " 'Defense',\n",
              " 'Research',\n",
              " 'and',\n",
              " 'Development',\n",
              " 'Organization',\n",
              " \"'s\",\n",
              " '(',\n",
              " 'DRDO',\n",
              " ')',\n",
              " 'Aeronautical',\n",
              " 'Development',\n",
              " 'Base',\n",
              " 'as',\n",
              " 'a',\n",
              " 'Chief',\n",
              " 'Scientist',\n",
              " 'after',\n",
              " 'his',\n",
              " 'graduation.',\n",
              " 'He',\n",
              " 'won',\n",
              " 'credit',\n",
              " 'as',\n",
              " 'Project',\n",
              " 'Director-General',\n",
              " 'for',\n",
              " 'making',\n",
              " 'India',\n",
              " \"'s\",\n",
              " 'first',\n",
              " 'indigenous',\n",
              " 'satellite',\n",
              " '(',\n",
              " 'SLV',\n",
              " 'III',\n",
              " ')',\n",
              " 'rocket.',\n",
              " 'It',\n",
              " 'was',\n",
              " 'his',\n",
              " 'ultimate',\n",
              " 'support',\n",
              " 'that',\n",
              " 'brought',\n",
              " 'nuclear',\n",
              " 'power',\n",
              " 'to',\n",
              " 'India.',\n",
              " 'In',\n",
              " 'July',\n",
              " '1992',\n",
              " ',',\n",
              " 'he',\n",
              " 'was',\n",
              " 'appointed',\n",
              " 'Scientific',\n",
              " 'Advisor',\n",
              " 'to',\n",
              " 'the',\n",
              " 'Indian',\n",
              " 'Ministry',\n",
              " 'of',\n",
              " 'Defence.',\n",
              " 'As',\n",
              " 'a',\n",
              " 'national',\n",
              " 'counsellor',\n",
              " ',',\n",
              " 'he',\n",
              " 'played',\n",
              " 'a',\n",
              " 'significant',\n",
              " 'role',\n",
              " 'in',\n",
              " 'the',\n",
              " 'world-famous',\n",
              " 'nuclear',\n",
              " 'tests',\n",
              " 'at',\n",
              " 'Pokhran',\n",
              " 'II.',\n",
              " 'In',\n",
              " '1981',\n",
              " ',',\n",
              " 'he',\n",
              " 'was',\n",
              " 'awarded',\n",
              " 'the',\n",
              " 'Padma',\n",
              " 'Bhushan',\n",
              " 'Award',\n",
              " ',',\n",
              " 'in',\n",
              " '1909',\n",
              " 'the',\n",
              " 'Padma',\n",
              " 'Vibhushan',\n",
              " ',',\n",
              " 'and',\n",
              " 'in',\n",
              " '1997',\n",
              " 'the',\n",
              " 'highest',\n",
              " 'civilian',\n",
              " 'award',\n",
              " 'of',\n",
              " 'India',\n",
              " \"'\",\n",
              " 'Bharat',\n",
              " 'Ratna',\n",
              " \"'for\",\n",
              " 'modernizing',\n",
              " 'the',\n",
              " 'defence',\n",
              " 'technology',\n",
              " 'of',\n",
              " 'India',\n",
              " 'and',\n",
              " 'his',\n",
              " 'outstanding',\n",
              " 'contribution',\n",
              " '.']"
            ]
          },
          "metadata": {},
          "execution_count": 18
        }
      ]
    },
    {
      "cell_type": "code",
      "source": [],
      "metadata": {
        "id": "IVHpyHJTe3ru"
      },
      "execution_count": null,
      "outputs": []
    }
  ]
}