{
  "nbformat": 4,
  "nbformat_minor": 0,
  "metadata": {
    "colab": {
      "provenance": [],
      "authorship_tag": "ABX9TyOu22I4YmNwUBHksV0mL03N",
      "include_colab_link": true
    },
    "kernelspec": {
      "name": "python3",
      "display_name": "Python 3"
    },
    "language_info": {
      "name": "python"
    }
  },
  "cells": [
    {
      "cell_type": "markdown",
      "metadata": {
        "id": "view-in-github",
        "colab_type": "text"
      },
      "source": [
        "<a href=\"https://colab.research.google.com/github/amuthalingeswaranbose/Amuthan_NLP_Learnings/blob/main/NLP_Word2Vec.ipynb\" target=\"_parent\"><img src=\"https://colab.research.google.com/assets/colab-badge.svg\" alt=\"Open In Colab\"/></a>"
      ]
    },
    {
      "cell_type": "markdown",
      "source": [
        "# Install"
      ],
      "metadata": {
        "id": "VojI9EKri3Wn"
      }
    },
    {
      "cell_type": "code",
      "source": [
        "!pip install gensim"
      ],
      "metadata": {
        "colab": {
          "base_uri": "https://localhost:8080/"
        },
        "id": "9UzrNYkni6aF",
        "outputId": "e557e60a-a364-404e-93c1-2157005f4890"
      },
      "execution_count": null,
      "outputs": [
        {
          "output_type": "stream",
          "name": "stdout",
          "text": [
            "Requirement already satisfied: gensim in /usr/local/lib/python3.10/dist-packages (4.3.2)\n",
            "Requirement already satisfied: numpy>=1.18.5 in /usr/local/lib/python3.10/dist-packages (from gensim) (1.23.5)\n",
            "Requirement already satisfied: scipy>=1.7.0 in /usr/local/lib/python3.10/dist-packages (from gensim) (1.11.4)\n",
            "Requirement already satisfied: smart-open>=1.8.1 in /usr/local/lib/python3.10/dist-packages (from gensim) (6.4.0)\n"
          ]
        }
      ]
    },
    {
      "cell_type": "markdown",
      "source": [
        "# Import"
      ],
      "metadata": {
        "id": "wuiSmJjUpRYI"
      }
    },
    {
      "cell_type": "code",
      "execution_count": null,
      "metadata": {
        "id": "nXx1EDZbpMcV"
      },
      "outputs": [],
      "source": [
        "import re\n",
        "import nltk\n",
        "from gensim.models import Word2Vec\n",
        "from nltk.corpus import stopwords"
      ]
    },
    {
      "cell_type": "markdown",
      "source": [
        "# Download nltk all files"
      ],
      "metadata": {
        "id": "Yn5xdeP3pkfA"
      }
    },
    {
      "cell_type": "code",
      "source": [
        "nltk.download()"
      ],
      "metadata": {
        "colab": {
          "base_uri": "https://localhost:8080/"
        },
        "id": "wypq9nV6pVHi",
        "outputId": "a2634363-3031-44e0-fa29-525bdef3dcd8"
      },
      "execution_count": 3,
      "outputs": [
        {
          "metadata": {
            "tags": null
          },
          "name": "stdout",
          "output_type": "stream",
          "text": [
            "NLTK Downloader\n",
            "---------------------------------------------------------------------------\n",
            "    d) Download   l) List    u) Update   c) Config   h) Help   q) Quit\n",
            "---------------------------------------------------------------------------\n",
            "\n",
            "Download which package (l=list; x=cancel)?\n"
          ]
        },
        {
          "metadata": {
            "tags": null
          },
          "name": "stderr",
          "output_type": "stream",
          "text": [
            "    Downloading collection 'all'\n",
            "       | \n",
            "       | Downloading package abc to /root/nltk_data...\n",
            "       |   Unzipping corpora/abc.zip.\n",
            "       | Downloading package alpino to /root/nltk_data...\n",
            "       |   Unzipping corpora/alpino.zip.\n",
            "       | Downloading package averaged_perceptron_tagger to\n",
            "       |     /root/nltk_data...\n",
            "       |   Unzipping taggers/averaged_perceptron_tagger.zip.\n",
            "       | Downloading package averaged_perceptron_tagger_ru to\n",
            "       |     /root/nltk_data...\n",
            "       |   Unzipping taggers/averaged_perceptron_tagger_ru.zip.\n",
            "       | Downloading package basque_grammars to /root/nltk_data...\n",
            "       |   Unzipping grammars/basque_grammars.zip.\n",
            "       | Downloading package bcp47 to /root/nltk_data...\n",
            "       | Downloading package biocreative_ppi to /root/nltk_data...\n",
            "       |   Unzipping corpora/biocreative_ppi.zip.\n",
            "       | Downloading package bllip_wsj_no_aux to /root/nltk_data...\n",
            "       |   Unzipping models/bllip_wsj_no_aux.zip.\n",
            "       | Downloading package book_grammars to /root/nltk_data...\n",
            "       |   Unzipping grammars/book_grammars.zip.\n",
            "       | Downloading package brown to /root/nltk_data...\n",
            "       |   Unzipping corpora/brown.zip.\n",
            "       | Downloading package brown_tei to /root/nltk_data...\n",
            "       |   Unzipping corpora/brown_tei.zip.\n",
            "       | Downloading package cess_cat to /root/nltk_data...\n",
            "       |   Unzipping corpora/cess_cat.zip.\n",
            "       | Downloading package cess_esp to /root/nltk_data...\n",
            "       |   Unzipping corpora/cess_esp.zip.\n",
            "       | Downloading package chat80 to /root/nltk_data...\n",
            "       |   Unzipping corpora/chat80.zip.\n",
            "       | Downloading package city_database to /root/nltk_data...\n",
            "       |   Unzipping corpora/city_database.zip.\n",
            "       | Downloading package cmudict to /root/nltk_data...\n",
            "       |   Unzipping corpora/cmudict.zip.\n",
            "       | Downloading package comparative_sentences to\n",
            "       |     /root/nltk_data...\n",
            "       |   Unzipping corpora/comparative_sentences.zip.\n",
            "       | Downloading package comtrans to /root/nltk_data...\n",
            "       | Downloading package conll2000 to /root/nltk_data...\n",
            "       |   Unzipping corpora/conll2000.zip.\n",
            "       | Downloading package conll2002 to /root/nltk_data...\n",
            "       |   Unzipping corpora/conll2002.zip.\n",
            "       | Downloading package conll2007 to /root/nltk_data...\n",
            "       | Downloading package crubadan to /root/nltk_data...\n",
            "       |   Unzipping corpora/crubadan.zip.\n",
            "       | Downloading package dependency_treebank to /root/nltk_data...\n",
            "       |   Unzipping corpora/dependency_treebank.zip.\n",
            "       | Downloading package dolch to /root/nltk_data...\n",
            "       |   Unzipping corpora/dolch.zip.\n",
            "       | Downloading package europarl_raw to /root/nltk_data...\n",
            "       |   Unzipping corpora/europarl_raw.zip.\n",
            "       | Downloading package extended_omw to /root/nltk_data...\n",
            "       | Downloading package floresta to /root/nltk_data...\n",
            "       |   Unzipping corpora/floresta.zip.\n",
            "       | Downloading package framenet_v15 to /root/nltk_data...\n",
            "       |   Unzipping corpora/framenet_v15.zip.\n",
            "       | Downloading package framenet_v17 to /root/nltk_data...\n",
            "       |   Unzipping corpora/framenet_v17.zip.\n",
            "       | Downloading package gazetteers to /root/nltk_data...\n",
            "       |   Unzipping corpora/gazetteers.zip.\n",
            "       | Downloading package genesis to /root/nltk_data...\n",
            "       |   Unzipping corpora/genesis.zip.\n",
            "       | Downloading package gutenberg to /root/nltk_data...\n",
            "       |   Unzipping corpora/gutenberg.zip.\n",
            "       | Downloading package ieer to /root/nltk_data...\n",
            "       |   Unzipping corpora/ieer.zip.\n",
            "       | Downloading package inaugural to /root/nltk_data...\n",
            "       |   Unzipping corpora/inaugural.zip.\n",
            "       | Downloading package indian to /root/nltk_data...\n",
            "       |   Unzipping corpora/indian.zip.\n",
            "       | Downloading package jeita to /root/nltk_data...\n",
            "       | Downloading package kimmo to /root/nltk_data...\n",
            "       |   Unzipping corpora/kimmo.zip.\n",
            "       | Downloading package knbc to /root/nltk_data...\n",
            "       | Downloading package large_grammars to /root/nltk_data...\n",
            "       |   Unzipping grammars/large_grammars.zip.\n",
            "       | Downloading package lin_thesaurus to /root/nltk_data...\n",
            "       |   Unzipping corpora/lin_thesaurus.zip.\n",
            "       | Downloading package mac_morpho to /root/nltk_data...\n",
            "       |   Unzipping corpora/mac_morpho.zip.\n",
            "       | Downloading package machado to /root/nltk_data...\n",
            "       | Downloading package masc_tagged to /root/nltk_data...\n",
            "       | Downloading package maxent_ne_chunker to /root/nltk_data...\n",
            "       |   Unzipping chunkers/maxent_ne_chunker.zip.\n",
            "       | Downloading package maxent_treebank_pos_tagger to\n",
            "       |     /root/nltk_data...\n",
            "       |   Unzipping taggers/maxent_treebank_pos_tagger.zip.\n",
            "       | Downloading package moses_sample to /root/nltk_data...\n",
            "       |   Unzipping models/moses_sample.zip.\n",
            "       | Downloading package movie_reviews to /root/nltk_data...\n",
            "       |   Unzipping corpora/movie_reviews.zip.\n",
            "       | Downloading package mte_teip5 to /root/nltk_data...\n",
            "       |   Unzipping corpora/mte_teip5.zip.\n",
            "       | Downloading package mwa_ppdb to /root/nltk_data...\n",
            "       |   Unzipping misc/mwa_ppdb.zip.\n",
            "       | Downloading package names to /root/nltk_data...\n",
            "       |   Unzipping corpora/names.zip.\n",
            "       | Downloading package nombank.1.0 to /root/nltk_data...\n",
            "       | Downloading package nonbreaking_prefixes to\n",
            "       |     /root/nltk_data...\n",
            "       |   Unzipping corpora/nonbreaking_prefixes.zip.\n",
            "       | Downloading package nps_chat to /root/nltk_data...\n",
            "       |   Unzipping corpora/nps_chat.zip.\n",
            "       | Downloading package omw to /root/nltk_data...\n",
            "       | Downloading package omw-1.4 to /root/nltk_data...\n",
            "       | Downloading package opinion_lexicon to /root/nltk_data...\n",
            "       |   Unzipping corpora/opinion_lexicon.zip.\n",
            "       | Downloading package panlex_swadesh to /root/nltk_data...\n",
            "       | Downloading package paradigms to /root/nltk_data...\n",
            "       |   Unzipping corpora/paradigms.zip.\n",
            "       | Downloading package pe08 to /root/nltk_data...\n",
            "       |   Unzipping corpora/pe08.zip.\n",
            "       | Downloading package perluniprops to /root/nltk_data...\n",
            "       |   Unzipping misc/perluniprops.zip.\n",
            "       | Downloading package pil to /root/nltk_data...\n",
            "       |   Unzipping corpora/pil.zip.\n",
            "       | Downloading package pl196x to /root/nltk_data...\n",
            "       |   Unzipping corpora/pl196x.zip.\n",
            "       | Downloading package porter_test to /root/nltk_data...\n",
            "       |   Unzipping stemmers/porter_test.zip.\n",
            "       | Downloading package ppattach to /root/nltk_data...\n",
            "       |   Unzipping corpora/ppattach.zip.\n",
            "       | Downloading package problem_reports to /root/nltk_data...\n",
            "       |   Unzipping corpora/problem_reports.zip.\n",
            "       | Downloading package product_reviews_1 to /root/nltk_data...\n",
            "       |   Unzipping corpora/product_reviews_1.zip.\n",
            "       | Downloading package product_reviews_2 to /root/nltk_data...\n",
            "       |   Unzipping corpora/product_reviews_2.zip.\n",
            "       | Downloading package propbank to /root/nltk_data...\n",
            "       | Downloading package pros_cons to /root/nltk_data...\n",
            "       |   Unzipping corpora/pros_cons.zip.\n",
            "       | Downloading package ptb to /root/nltk_data...\n",
            "       |   Unzipping corpora/ptb.zip.\n",
            "       | Downloading package punkt to /root/nltk_data...\n",
            "       |   Unzipping tokenizers/punkt.zip.\n",
            "       | Downloading package qc to /root/nltk_data...\n",
            "       |   Unzipping corpora/qc.zip.\n",
            "       | Downloading package reuters to /root/nltk_data...\n",
            "       | Downloading package rslp to /root/nltk_data...\n",
            "       |   Unzipping stemmers/rslp.zip.\n",
            "       | Downloading package rte to /root/nltk_data...\n",
            "       |   Unzipping corpora/rte.zip.\n",
            "       | Downloading package sample_grammars to /root/nltk_data...\n",
            "       |   Unzipping grammars/sample_grammars.zip.\n",
            "       | Downloading package semcor to /root/nltk_data...\n",
            "       | Downloading package senseval to /root/nltk_data...\n",
            "       |   Unzipping corpora/senseval.zip.\n",
            "       | Downloading package sentence_polarity to /root/nltk_data...\n",
            "       |   Unzipping corpora/sentence_polarity.zip.\n",
            "       | Downloading package sentiwordnet to /root/nltk_data...\n",
            "       |   Unzipping corpora/sentiwordnet.zip.\n",
            "       | Downloading package shakespeare to /root/nltk_data...\n",
            "       |   Unzipping corpora/shakespeare.zip.\n",
            "       | Downloading package sinica_treebank to /root/nltk_data...\n",
            "       |   Unzipping corpora/sinica_treebank.zip.\n",
            "       | Downloading package smultron to /root/nltk_data...\n",
            "       |   Unzipping corpora/smultron.zip.\n",
            "       | Downloading package snowball_data to /root/nltk_data...\n",
            "       | Downloading package spanish_grammars to /root/nltk_data...\n",
            "       |   Unzipping grammars/spanish_grammars.zip.\n",
            "       | Downloading package state_union to /root/nltk_data...\n",
            "       |   Unzipping corpora/state_union.zip.\n",
            "       | Downloading package stopwords to /root/nltk_data...\n",
            "       |   Unzipping corpora/stopwords.zip.\n",
            "       | Downloading package subjectivity to /root/nltk_data...\n",
            "       |   Unzipping corpora/subjectivity.zip.\n",
            "       | Downloading package swadesh to /root/nltk_data...\n",
            "       |   Unzipping corpora/swadesh.zip.\n",
            "       | Downloading package switchboard to /root/nltk_data...\n",
            "       |   Unzipping corpora/switchboard.zip.\n",
            "       | Downloading package tagsets to /root/nltk_data...\n",
            "       |   Unzipping help/tagsets.zip.\n",
            "       | Downloading package timit to /root/nltk_data...\n",
            "       |   Unzipping corpora/timit.zip.\n",
            "       | Downloading package toolbox to /root/nltk_data...\n",
            "       |   Unzipping corpora/toolbox.zip.\n",
            "       | Downloading package treebank to /root/nltk_data...\n",
            "       |   Unzipping corpora/treebank.zip.\n",
            "       | Downloading package twitter_samples to /root/nltk_data...\n",
            "       |   Unzipping corpora/twitter_samples.zip.\n",
            "       | Downloading package udhr to /root/nltk_data...\n",
            "       |   Unzipping corpora/udhr.zip.\n",
            "       | Downloading package udhr2 to /root/nltk_data...\n",
            "       |   Unzipping corpora/udhr2.zip.\n",
            "       | Downloading package unicode_samples to /root/nltk_data...\n",
            "       |   Unzipping corpora/unicode_samples.zip.\n",
            "       | Downloading package universal_tagset to /root/nltk_data...\n",
            "       |   Unzipping taggers/universal_tagset.zip.\n",
            "       | Downloading package universal_treebanks_v20 to\n",
            "       |     /root/nltk_data...\n",
            "       | Downloading package vader_lexicon to /root/nltk_data...\n",
            "       | Downloading package verbnet to /root/nltk_data...\n",
            "       |   Unzipping corpora/verbnet.zip.\n",
            "       | Downloading package verbnet3 to /root/nltk_data...\n",
            "       |   Unzipping corpora/verbnet3.zip.\n",
            "       | Downloading package webtext to /root/nltk_data...\n",
            "       |   Unzipping corpora/webtext.zip.\n",
            "       | Downloading package wmt15_eval to /root/nltk_data...\n",
            "       |   Unzipping models/wmt15_eval.zip.\n",
            "       | Downloading package word2vec_sample to /root/nltk_data...\n",
            "       |   Unzipping models/word2vec_sample.zip.\n",
            "       | Downloading package wordnet to /root/nltk_data...\n",
            "       | Downloading package wordnet2021 to /root/nltk_data...\n",
            "       | Downloading package wordnet2022 to /root/nltk_data...\n",
            "       |   Unzipping corpora/wordnet2022.zip.\n",
            "       | Downloading package wordnet31 to /root/nltk_data...\n",
            "       | Downloading package wordnet_ic to /root/nltk_data...\n",
            "       |   Unzipping corpora/wordnet_ic.zip.\n",
            "       | Downloading package words to /root/nltk_data...\n",
            "       |   Unzipping corpora/words.zip.\n",
            "       | Downloading package ycoe to /root/nltk_data...\n",
            "       |   Unzipping corpora/ycoe.zip.\n",
            "       | \n",
            "     Done downloading collection all\n"
          ]
        },
        {
          "name": "stdout",
          "output_type": "stream",
          "text": [
            "\n",
            "---------------------------------------------------------------------------\n",
            "    d) Download   l) List    u) Update   c) Config   h) Help   q) Quit\n",
            "---------------------------------------------------------------------------\n",
            "Downloader> q\n"
          ]
        },
        {
          "output_type": "execute_result",
          "data": {
            "text/plain": [
              "True"
            ]
          },
          "metadata": {},
          "execution_count": 3
        }
      ]
    },
    {
      "cell_type": "code",
      "source": [
        "paragraph = \"\"\"He graduated in 1955 from the Madras Institute of Technology and graduated from St. Joseph's College, Tiruchirappalli, in Aerospace Engineering. He joined the Defense Research and Development Organization's (DRDO) Aeronautical Development Base as a Chief Scientist after his graduation. He won credit as Project Director-General for making India's first indigenous satellite (SLV III) rocket. It was his ultimate support that brought nuclear power to India. In July 1992, he was appointed Scientific Advisor to the Indian Ministry of Defence. As a national counsellor, he played a significant role in the world-famous nuclear tests at Pokhran II. In 1981, he was awarded the Padma Bhushan Award, in 1909 the Padma Vibhushan, and in 1997 the highest civilian award of India' Bharat Ratna 'for modernizing the defence technology of India and his outstanding contribution.\"\"\"\n",
        "paragraph"
      ],
      "metadata": {
        "id": "gC-JACiVpYmK",
        "colab": {
          "base_uri": "https://localhost:8080/",
          "height": 105
        },
        "outputId": "25e9a6f6-95ba-46ec-81b2-3931fb0c10b2"
      },
      "execution_count": 4,
      "outputs": [
        {
          "data": {
            "application/vnd.google.colaboratory.intrinsic+json": {
              "type": "string"
            },
            "text/plain": [
              "\"He graduated in 1955 from the Madras Institute of Technology and graduated from St. Joseph's College, Tiruchirappalli, in Aerospace Engineering. He joined the Defense Research and Development Organization's (DRDO) Aeronautical Development Base as a Chief Scientist after his graduation. He won credit as Project Director-General for making India's first indigenous satellite (SLV III) rocket. It was his ultimate support that brought nuclear power to India. In July 1992, he was appointed Scientific Advisor to the Indian Ministry of Defence. As a national counsellor, he played a significant role in the world-famous nuclear tests at Pokhran II. In 1981, he was awarded the Padma Bhushan Award, in 1909 the Padma Vibhushan, and in 1997 the highest civilian award of India' Bharat Ratna 'for modernizing the defence technology of India and his outstanding contribution.\""
            ]
          },
          "execution_count": 4,
          "metadata": {},
          "output_type": "execute_result"
        }
      ]
    },
    {
      "cell_type": "markdown",
      "source": [
        "# Preprocessing the data"
      ],
      "metadata": {
        "id": "jn6KQajZijmq"
      }
    },
    {
      "cell_type": "code",
      "source": [
        "text = re.sub(r'\\[[0-9]*\\]',' ',paragraph)\n",
        "text = re.sub(r'\\s+',' ',text)\n",
        "text = text.lower()\n",
        "text = re.sub(r'\\d',' ',text)\n",
        "text = re.sub(r'\\s+',' ',text)"
      ],
      "metadata": {
        "id": "t99Bfva1ikuG"
      },
      "execution_count": 5,
      "outputs": []
    },
    {
      "cell_type": "markdown",
      "source": [
        "# Preparing the dataset"
      ],
      "metadata": {
        "id": "eEQWC9k2qKiM"
      }
    },
    {
      "cell_type": "code",
      "source": [
        "sentences = nltk.sent_tokenize(text)\n",
        "sentences"
      ],
      "metadata": {
        "id": "r-C165AnqFrs",
        "colab": {
          "base_uri": "https://localhost:8080/"
        },
        "outputId": "9e3b1e32-b57a-4da7-d247-65029af92cc2"
      },
      "execution_count": 6,
      "outputs": [
        {
          "output_type": "execute_result",
          "data": {
            "text/plain": [
              "[\"he graduated in from the madras institute of technology and graduated from st. joseph's college, tiruchirappalli, in aerospace engineering.\",\n",
              " \"he joined the defense research and development organization's (drdo) aeronautical development base as a chief scientist after his graduation.\",\n",
              " \"he won credit as project director-general for making india's first indigenous satellite (slv iii) rocket.\",\n",
              " 'it was his ultimate support that brought nuclear power to india.',\n",
              " 'in july , he was appointed scientific advisor to the indian ministry of defence.',\n",
              " 'as a national counsellor, he played a significant role in the world-famous nuclear tests at pokhran ii.',\n",
              " \"in , he was awarded the padma bhushan award, in the padma vibhushan, and in the highest civilian award of india' bharat ratna 'for modernizing the defence technology of india and his outstanding contribution.\"]"
            ]
          },
          "metadata": {},
          "execution_count": 6
        }
      ]
    },
    {
      "cell_type": "markdown",
      "source": [
        "# Tokenize Words"
      ],
      "metadata": {
        "id": "NS7Lle-uqdjY"
      }
    },
    {
      "cell_type": "code",
      "source": [
        "sentences = [nltk.word_tokenize(sentence) for sentence in sentences]\n",
        "sentences"
      ],
      "metadata": {
        "colab": {
          "base_uri": "https://localhost:8080/"
        },
        "id": "F7R_OL-sqU-4",
        "outputId": "a7f4f191-16c0-4b2e-a82a-0ba4054077ec"
      },
      "execution_count": 7,
      "outputs": [
        {
          "output_type": "execute_result",
          "data": {
            "text/plain": [
              "[['he',\n",
              "  'graduated',\n",
              "  'in',\n",
              "  'from',\n",
              "  'the',\n",
              "  'madras',\n",
              "  'institute',\n",
              "  'of',\n",
              "  'technology',\n",
              "  'and',\n",
              "  'graduated',\n",
              "  'from',\n",
              "  'st.',\n",
              "  'joseph',\n",
              "  \"'s\",\n",
              "  'college',\n",
              "  ',',\n",
              "  'tiruchirappalli',\n",
              "  ',',\n",
              "  'in',\n",
              "  'aerospace',\n",
              "  'engineering',\n",
              "  '.'],\n",
              " ['he',\n",
              "  'joined',\n",
              "  'the',\n",
              "  'defense',\n",
              "  'research',\n",
              "  'and',\n",
              "  'development',\n",
              "  'organization',\n",
              "  \"'s\",\n",
              "  '(',\n",
              "  'drdo',\n",
              "  ')',\n",
              "  'aeronautical',\n",
              "  'development',\n",
              "  'base',\n",
              "  'as',\n",
              "  'a',\n",
              "  'chief',\n",
              "  'scientist',\n",
              "  'after',\n",
              "  'his',\n",
              "  'graduation',\n",
              "  '.'],\n",
              " ['he',\n",
              "  'won',\n",
              "  'credit',\n",
              "  'as',\n",
              "  'project',\n",
              "  'director-general',\n",
              "  'for',\n",
              "  'making',\n",
              "  'india',\n",
              "  \"'s\",\n",
              "  'first',\n",
              "  'indigenous',\n",
              "  'satellite',\n",
              "  '(',\n",
              "  'slv',\n",
              "  'iii',\n",
              "  ')',\n",
              "  'rocket',\n",
              "  '.'],\n",
              " ['it',\n",
              "  'was',\n",
              "  'his',\n",
              "  'ultimate',\n",
              "  'support',\n",
              "  'that',\n",
              "  'brought',\n",
              "  'nuclear',\n",
              "  'power',\n",
              "  'to',\n",
              "  'india',\n",
              "  '.'],\n",
              " ['in',\n",
              "  'july',\n",
              "  ',',\n",
              "  'he',\n",
              "  'was',\n",
              "  'appointed',\n",
              "  'scientific',\n",
              "  'advisor',\n",
              "  'to',\n",
              "  'the',\n",
              "  'indian',\n",
              "  'ministry',\n",
              "  'of',\n",
              "  'defence',\n",
              "  '.'],\n",
              " ['as',\n",
              "  'a',\n",
              "  'national',\n",
              "  'counsellor',\n",
              "  ',',\n",
              "  'he',\n",
              "  'played',\n",
              "  'a',\n",
              "  'significant',\n",
              "  'role',\n",
              "  'in',\n",
              "  'the',\n",
              "  'world-famous',\n",
              "  'nuclear',\n",
              "  'tests',\n",
              "  'at',\n",
              "  'pokhran',\n",
              "  'ii',\n",
              "  '.'],\n",
              " ['in',\n",
              "  ',',\n",
              "  'he',\n",
              "  'was',\n",
              "  'awarded',\n",
              "  'the',\n",
              "  'padma',\n",
              "  'bhushan',\n",
              "  'award',\n",
              "  ',',\n",
              "  'in',\n",
              "  'the',\n",
              "  'padma',\n",
              "  'vibhushan',\n",
              "  ',',\n",
              "  'and',\n",
              "  'in',\n",
              "  'the',\n",
              "  'highest',\n",
              "  'civilian',\n",
              "  'award',\n",
              "  'of',\n",
              "  'india',\n",
              "  \"'\",\n",
              "  'bharat',\n",
              "  'ratna',\n",
              "  \"'for\",\n",
              "  'modernizing',\n",
              "  'the',\n",
              "  'defence',\n",
              "  'technology',\n",
              "  'of',\n",
              "  'india',\n",
              "  'and',\n",
              "  'his',\n",
              "  'outstanding',\n",
              "  'contribution',\n",
              "  '.']]"
            ]
          },
          "metadata": {},
          "execution_count": 7
        }
      ]
    },
    {
      "cell_type": "code",
      "source": [
        "for i in range(len(sentences)):\n",
        "    sentences[i] = [word for word in sentences[i] if word not in stopwords.words('english')]\n"
      ],
      "metadata": {
        "id": "7Sb-ujNpqoSh"
      },
      "execution_count": 8,
      "outputs": []
    },
    {
      "cell_type": "code",
      "source": [
        "sentences"
      ],
      "metadata": {
        "id": "8vtHEMc8dT1C",
        "colab": {
          "base_uri": "https://localhost:8080/"
        },
        "outputId": "29ff6df7-312b-4265-8421-cbacb216776e"
      },
      "execution_count": 9,
      "outputs": [
        {
          "output_type": "execute_result",
          "data": {
            "text/plain": [
              "[['graduated',\n",
              "  'madras',\n",
              "  'institute',\n",
              "  'technology',\n",
              "  'graduated',\n",
              "  'st.',\n",
              "  'joseph',\n",
              "  \"'s\",\n",
              "  'college',\n",
              "  ',',\n",
              "  'tiruchirappalli',\n",
              "  ',',\n",
              "  'aerospace',\n",
              "  'engineering',\n",
              "  '.'],\n",
              " ['joined',\n",
              "  'defense',\n",
              "  'research',\n",
              "  'development',\n",
              "  'organization',\n",
              "  \"'s\",\n",
              "  '(',\n",
              "  'drdo',\n",
              "  ')',\n",
              "  'aeronautical',\n",
              "  'development',\n",
              "  'base',\n",
              "  'chief',\n",
              "  'scientist',\n",
              "  'graduation',\n",
              "  '.'],\n",
              " ['credit',\n",
              "  'project',\n",
              "  'director-general',\n",
              "  'making',\n",
              "  'india',\n",
              "  \"'s\",\n",
              "  'first',\n",
              "  'indigenous',\n",
              "  'satellite',\n",
              "  '(',\n",
              "  'slv',\n",
              "  'iii',\n",
              "  ')',\n",
              "  'rocket',\n",
              "  '.'],\n",
              " ['ultimate', 'support', 'brought', 'nuclear', 'power', 'india', '.'],\n",
              " ['july',\n",
              "  ',',\n",
              "  'appointed',\n",
              "  'scientific',\n",
              "  'advisor',\n",
              "  'indian',\n",
              "  'ministry',\n",
              "  'defence',\n",
              "  '.'],\n",
              " ['national',\n",
              "  'counsellor',\n",
              "  ',',\n",
              "  'played',\n",
              "  'significant',\n",
              "  'role',\n",
              "  'world-famous',\n",
              "  'nuclear',\n",
              "  'tests',\n",
              "  'pokhran',\n",
              "  'ii',\n",
              "  '.'],\n",
              " [',',\n",
              "  'awarded',\n",
              "  'padma',\n",
              "  'bhushan',\n",
              "  'award',\n",
              "  ',',\n",
              "  'padma',\n",
              "  'vibhushan',\n",
              "  ',',\n",
              "  'highest',\n",
              "  'civilian',\n",
              "  'award',\n",
              "  'india',\n",
              "  \"'\",\n",
              "  'bharat',\n",
              "  'ratna',\n",
              "  \"'for\",\n",
              "  'modernizing',\n",
              "  'defence',\n",
              "  'technology',\n",
              "  'india',\n",
              "  'outstanding',\n",
              "  'contribution',\n",
              "  '.']]"
            ]
          },
          "metadata": {},
          "execution_count": 9
        }
      ]
    },
    {
      "cell_type": "code",
      "source": [
        "# Training the Word2Vec model\n",
        "model = Word2Vec(sentences, min_count=1)"
      ],
      "metadata": {
        "id": "IVHpyHJTe3ru"
      },
      "execution_count": 10,
      "outputs": []
    },
    {
      "cell_type": "code",
      "source": [
        "model"
      ],
      "metadata": {
        "colab": {
          "base_uri": "https://localhost:8080/"
        },
        "id": "BN-HsyXnkBHO",
        "outputId": "7687cc31-1bcc-4a1e-b46b-da234d47c108"
      },
      "execution_count": 11,
      "outputs": [
        {
          "output_type": "execute_result",
          "data": {
            "text/plain": [
              "<gensim.models.word2vec.Word2Vec at 0x78cca25e5720>"
            ]
          },
          "metadata": {},
          "execution_count": 11
        }
      ]
    },
    {
      "cell_type": "code",
      "source": [
        "# words = model.wv.vocab # Attribute error\n",
        "words = model.wv.index_to_key\n",
        "words"
      ],
      "metadata": {
        "colab": {
          "base_uri": "https://localhost:8080/"
        },
        "id": "S8Ml5yRckBJe",
        "outputId": "f024ea01-a15b-47d1-b1ae-98d6a9365eb6"
      },
      "execution_count": 14,
      "outputs": [
        {
          "output_type": "execute_result",
          "data": {
            "text/plain": [
              "['.',\n",
              " ',',\n",
              " 'india',\n",
              " \"'s\",\n",
              " 'graduated',\n",
              " 'padma',\n",
              " 'nuclear',\n",
              " ')',\n",
              " 'defence',\n",
              " '(',\n",
              " 'development',\n",
              " 'technology',\n",
              " 'award',\n",
              " 'aeronautical',\n",
              " 'first',\n",
              " 'madras',\n",
              " 'making',\n",
              " 'director-general',\n",
              " 'project',\n",
              " 'institute',\n",
              " 'credit',\n",
              " 'graduation',\n",
              " 'scientist',\n",
              " 'chief',\n",
              " 'base',\n",
              " 'tiruchirappalli',\n",
              " 'st.',\n",
              " 'drdo',\n",
              " 'joseph',\n",
              " 'organization',\n",
              " 'satellite',\n",
              " 'research',\n",
              " 'defense',\n",
              " 'joined',\n",
              " 'college',\n",
              " 'engineering',\n",
              " 'aerospace',\n",
              " 'indigenous',\n",
              " 'contribution',\n",
              " 'slv',\n",
              " 'role',\n",
              " 'modernizing',\n",
              " \"'for\",\n",
              " 'ratna',\n",
              " 'bharat',\n",
              " \"'\",\n",
              " 'civilian',\n",
              " 'highest',\n",
              " 'vibhushan',\n",
              " 'bhushan',\n",
              " 'awarded',\n",
              " 'ii',\n",
              " 'pokhran',\n",
              " 'tests',\n",
              " 'world-famous',\n",
              " 'significant',\n",
              " 'outstanding',\n",
              " 'played',\n",
              " 'counsellor',\n",
              " 'national',\n",
              " 'ministry',\n",
              " 'indian',\n",
              " 'advisor',\n",
              " 'scientific',\n",
              " 'appointed',\n",
              " 'july',\n",
              " 'power',\n",
              " 'brought',\n",
              " 'support',\n",
              " 'ultimate',\n",
              " 'rocket',\n",
              " 'iii']"
            ]
          },
          "metadata": {},
          "execution_count": 14
        }
      ]
    },
    {
      "cell_type": "code",
      "source": [
        "# wv count\n",
        "len(words)"
      ],
      "metadata": {
        "colab": {
          "base_uri": "https://localhost:8080/"
        },
        "id": "BsYxow8Ui-t2",
        "outputId": "ee2cacca-9b54-4d2e-ae55-6f5bff9c6a0c"
      },
      "execution_count": 16,
      "outputs": [
        {
          "output_type": "execute_result",
          "data": {
            "text/plain": [
              "72"
            ]
          },
          "metadata": {},
          "execution_count": 16
        }
      ]
    },
    {
      "cell_type": "code",
      "source": [
        "# Finding Word Vectors\n",
        "vector = model.wv['scientific']\n",
        "vector"
      ],
      "metadata": {
        "colab": {
          "base_uri": "https://localhost:8080/"
        },
        "id": "-F0XBzsbkBL3",
        "outputId": "2aebd17a-61da-42a7-8513-e079f122535a"
      },
      "execution_count": 17,
      "outputs": [
        {
          "output_type": "execute_result",
          "data": {
            "text/plain": [
              "array([ 0.00201722,  0.00826286, -0.00830238, -0.00874524, -0.00054093,\n",
              "       -0.00189517, -0.00234369, -0.00059135, -0.00507661, -0.00802062,\n",
              "        0.00825312, -0.00334104, -0.00284239, -0.00164138, -0.00122847,\n",
              "       -0.00919142, -0.00179306, -0.0013523 ,  0.00864411, -0.00796395,\n",
              "       -0.00474678, -0.00188162,  0.00289261, -0.0060208 , -0.00554702,\n",
              "       -0.00796836,  0.00552194, -0.00871688, -0.00324978,  0.00029819,\n",
              "        0.00145314, -0.00993988,  0.00866465, -0.00206082,  0.00035246,\n",
              "       -0.00878771, -0.00817056,  0.00377027,  0.00400854,  0.00298383,\n",
              "        0.00584167, -0.00693019, -0.00124889, -0.00272263, -0.00140565,\n",
              "        0.00447805,  0.00137085, -0.00744045,  0.00324133,  0.00625918,\n",
              "       -0.00609838,  0.00322819, -0.00431785,  0.00882313,  0.0041319 ,\n",
              "        0.00203798, -0.00101734, -0.00911079,  0.00865022, -0.00181891,\n",
              "        0.00737371,  0.00376818, -0.00825559, -0.00061695,  0.00274243,\n",
              "       -0.00256099,  0.00973123, -0.00498677, -0.00717295,  0.00380235,\n",
              "       -0.00356895, -0.00688732,  0.00203766,  0.0052688 , -0.00549838,\n",
              "       -0.00438305, -0.0071741 ,  0.00154955, -0.00475708,  0.0084351 ,\n",
              "        0.00071655,  0.00186616, -0.00333809,  0.00738082, -0.00065976,\n",
              "       -0.00821753, -0.00733789,  0.00020835,  0.00774077,  0.00308939,\n",
              "       -0.00531445, -0.00675467, -0.00985557,  0.00392027, -0.00951807,\n",
              "        0.0031813 ,  0.00166544, -0.00081861, -0.00995524,  0.00588156],\n",
              "      dtype=float32)"
            ]
          },
          "metadata": {},
          "execution_count": 17
        }
      ]
    },
    {
      "cell_type": "code",
      "source": [
        "# Most similar words\n",
        "similar = model.wv.most_similar('satellite')\n",
        "similar"
      ],
      "metadata": {
        "colab": {
          "base_uri": "https://localhost:8080/"
        },
        "id": "qwvh8H9FkpZD",
        "outputId": "a1590472-9bc6-4e68-8c6c-8624d62ed47c"
      },
      "execution_count": 18,
      "outputs": [
        {
          "output_type": "execute_result",
          "data": {
            "text/plain": [
              "[('credit', 0.1869651824235916),\n",
              " ('technology', 0.1822897344827652),\n",
              " ('national', 0.1807270348072052),\n",
              " ('graduated', 0.17575202882289886),\n",
              " ('padma', 0.16273701190948486),\n",
              " ('aerospace', 0.15922842919826508),\n",
              " ('support', 0.1588054746389389),\n",
              " ('.', 0.15217389166355133),\n",
              " ('july', 0.14641378819942474),\n",
              " ('drdo', 0.14238183200359344)]"
            ]
          },
          "metadata": {},
          "execution_count": 18
        }
      ]
    },
    {
      "cell_type": "code",
      "source": [],
      "metadata": {
        "id": "geEldZBck0jC"
      },
      "execution_count": null,
      "outputs": []
    }
  ]
}